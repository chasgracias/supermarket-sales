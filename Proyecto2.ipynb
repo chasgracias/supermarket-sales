{
 "cells": [
  {
   "cell_type": "code",
   "execution_count": 48,
   "id": "58853d37",
   "metadata": {},
   "outputs": [],
   "source": [
    "import pandas as pd\n",
    "import numpy as np\n",
    "import seaborn as sns\n",
    "import matplotlib.pyplot as plt\n",
    "\n",
    "from sklearn import preprocessing, utils, metrics\n",
    "from sklearn.model_selection import train_test_split, GridSearchCV\n",
    "from sklearn.pipeline import make_pipeline\n",
    "from sklearn.preprocessing import StandardScaler\n",
    "from sklearn.neighbors import KNeighborsClassifier, KNeighborsRegressor\n",
    "from sklearn.decomposition import PCA\n",
    "from sklearn.linear_model import LinearRegression, LogisticRegression\n",
    "from sklearn.metrics import r2_score, mean_absolute_error, mean_squared_error\n",
    "\n",
    "from tensorflow.keras.models import Sequential\n",
    "from tensorflow.keras.layers import Dense"
   ]
  },
  {
   "cell_type": "code",
   "execution_count": 3,
   "id": "133a4e36",
   "metadata": {},
   "outputs": [
    {
     "data": {
      "text/html": [
       "<div>\n",
       "<style scoped>\n",
       "    .dataframe tbody tr th:only-of-type {\n",
       "        vertical-align: middle;\n",
       "    }\n",
       "\n",
       "    .dataframe tbody tr th {\n",
       "        vertical-align: top;\n",
       "    }\n",
       "\n",
       "    .dataframe thead th {\n",
       "        text-align: right;\n",
       "    }\n",
       "</style>\n",
       "<table border=\"1\" class=\"dataframe\">\n",
       "  <thead>\n",
       "    <tr style=\"text-align: right;\">\n",
       "      <th></th>\n",
       "      <th>Invoice ID</th>\n",
       "      <th>Branch</th>\n",
       "      <th>City</th>\n",
       "      <th>Customer type</th>\n",
       "      <th>Gender</th>\n",
       "      <th>Product line</th>\n",
       "      <th>Unit price</th>\n",
       "      <th>Quantity</th>\n",
       "      <th>Tax 5%</th>\n",
       "      <th>Total</th>\n",
       "      <th>Date</th>\n",
       "      <th>Time</th>\n",
       "      <th>Payment</th>\n",
       "      <th>cogs</th>\n",
       "      <th>gross margin percentage</th>\n",
       "      <th>gross income</th>\n",
       "      <th>Rating</th>\n",
       "    </tr>\n",
       "  </thead>\n",
       "  <tbody>\n",
       "    <tr>\n",
       "      <th>0</th>\n",
       "      <td>750-67-8428</td>\n",
       "      <td>A</td>\n",
       "      <td>Yangon</td>\n",
       "      <td>Member</td>\n",
       "      <td>Female</td>\n",
       "      <td>Health and beauty</td>\n",
       "      <td>74.69</td>\n",
       "      <td>7</td>\n",
       "      <td>26.1415</td>\n",
       "      <td>548.9715</td>\n",
       "      <td>1/5/2019</td>\n",
       "      <td>13:08</td>\n",
       "      <td>Ewallet</td>\n",
       "      <td>522.83</td>\n",
       "      <td>4.761905</td>\n",
       "      <td>26.1415</td>\n",
       "      <td>9.1</td>\n",
       "    </tr>\n",
       "    <tr>\n",
       "      <th>1</th>\n",
       "      <td>226-31-3081</td>\n",
       "      <td>C</td>\n",
       "      <td>Naypyitaw</td>\n",
       "      <td>Normal</td>\n",
       "      <td>Female</td>\n",
       "      <td>Electronic accessories</td>\n",
       "      <td>15.28</td>\n",
       "      <td>5</td>\n",
       "      <td>3.8200</td>\n",
       "      <td>80.2200</td>\n",
       "      <td>3/8/2019</td>\n",
       "      <td>10:29</td>\n",
       "      <td>Cash</td>\n",
       "      <td>76.40</td>\n",
       "      <td>4.761905</td>\n",
       "      <td>3.8200</td>\n",
       "      <td>9.6</td>\n",
       "    </tr>\n",
       "    <tr>\n",
       "      <th>2</th>\n",
       "      <td>631-41-3108</td>\n",
       "      <td>A</td>\n",
       "      <td>Yangon</td>\n",
       "      <td>Normal</td>\n",
       "      <td>Male</td>\n",
       "      <td>Home and lifestyle</td>\n",
       "      <td>46.33</td>\n",
       "      <td>7</td>\n",
       "      <td>16.2155</td>\n",
       "      <td>340.5255</td>\n",
       "      <td>3/3/2019</td>\n",
       "      <td>13:23</td>\n",
       "      <td>Credit card</td>\n",
       "      <td>324.31</td>\n",
       "      <td>4.761905</td>\n",
       "      <td>16.2155</td>\n",
       "      <td>7.4</td>\n",
       "    </tr>\n",
       "    <tr>\n",
       "      <th>3</th>\n",
       "      <td>123-19-1176</td>\n",
       "      <td>A</td>\n",
       "      <td>Yangon</td>\n",
       "      <td>Member</td>\n",
       "      <td>Male</td>\n",
       "      <td>Health and beauty</td>\n",
       "      <td>58.22</td>\n",
       "      <td>8</td>\n",
       "      <td>23.2880</td>\n",
       "      <td>489.0480</td>\n",
       "      <td>1/27/2019</td>\n",
       "      <td>20:33</td>\n",
       "      <td>Ewallet</td>\n",
       "      <td>465.76</td>\n",
       "      <td>4.761905</td>\n",
       "      <td>23.2880</td>\n",
       "      <td>8.4</td>\n",
       "    </tr>\n",
       "    <tr>\n",
       "      <th>4</th>\n",
       "      <td>373-73-7910</td>\n",
       "      <td>A</td>\n",
       "      <td>Yangon</td>\n",
       "      <td>Normal</td>\n",
       "      <td>Male</td>\n",
       "      <td>Sports and travel</td>\n",
       "      <td>86.31</td>\n",
       "      <td>7</td>\n",
       "      <td>30.2085</td>\n",
       "      <td>634.3785</td>\n",
       "      <td>2/8/2019</td>\n",
       "      <td>10:37</td>\n",
       "      <td>Ewallet</td>\n",
       "      <td>604.17</td>\n",
       "      <td>4.761905</td>\n",
       "      <td>30.2085</td>\n",
       "      <td>5.3</td>\n",
       "    </tr>\n",
       "  </tbody>\n",
       "</table>\n",
       "</div>"
      ],
      "text/plain": [
       "    Invoice ID Branch       City Customer type  Gender  \\\n",
       "0  750-67-8428      A     Yangon        Member  Female   \n",
       "1  226-31-3081      C  Naypyitaw        Normal  Female   \n",
       "2  631-41-3108      A     Yangon        Normal    Male   \n",
       "3  123-19-1176      A     Yangon        Member    Male   \n",
       "4  373-73-7910      A     Yangon        Normal    Male   \n",
       "\n",
       "             Product line  Unit price  Quantity   Tax 5%     Total       Date  \\\n",
       "0       Health and beauty       74.69         7  26.1415  548.9715   1/5/2019   \n",
       "1  Electronic accessories       15.28         5   3.8200   80.2200   3/8/2019   \n",
       "2      Home and lifestyle       46.33         7  16.2155  340.5255   3/3/2019   \n",
       "3       Health and beauty       58.22         8  23.2880  489.0480  1/27/2019   \n",
       "4       Sports and travel       86.31         7  30.2085  634.3785   2/8/2019   \n",
       "\n",
       "    Time      Payment    cogs  gross margin percentage  gross income  Rating  \n",
       "0  13:08      Ewallet  522.83                 4.761905       26.1415     9.1  \n",
       "1  10:29         Cash   76.40                 4.761905        3.8200     9.6  \n",
       "2  13:23  Credit card  324.31                 4.761905       16.2155     7.4  \n",
       "3  20:33      Ewallet  465.76                 4.761905       23.2880     8.4  \n",
       "4  10:37      Ewallet  604.17                 4.761905       30.2085     5.3  "
      ]
     },
     "execution_count": 3,
     "metadata": {},
     "output_type": "execute_result"
    }
   ],
   "source": [
    "df=pd.read_csv(\"./supermarket_sales.csv\")\n",
    "df.head()"
   ]
  },
  {
   "cell_type": "code",
   "execution_count": 4,
   "id": "19345dd4",
   "metadata": {},
   "outputs": [],
   "source": [
    "del(df[\"Invoice ID\"])\n",
    "del(df[\"Date\"])\n",
    "del(df[\"Time\"])"
   ]
  },
  {
   "cell_type": "code",
   "execution_count": 6,
   "id": "a1ad9922",
   "metadata": {},
   "outputs": [],
   "source": [
    "l_encoder = preprocessing.LabelEncoder()\n",
    "\n",
    "encoded = l_encoder.fit(df[\"Branch\"])\n",
    "encoded = l_encoder.fit(df[\"Customer type\"])\n",
    "encoded = l_encoder.fit(df[\"Gender\"])\n",
    "encoded = l_encoder.fit(df[\"Payment\"])\n",
    "encoded = l_encoder.fit(df[\"City\"])\n",
    "encoded = l_encoder.fit(df[\"Product line\"])"
   ]
  },
  {
   "cell_type": "code",
   "execution_count": 7,
   "id": "b146e024",
   "metadata": {},
   "outputs": [],
   "source": [
    "df[\"Product line\"] = encoded.fit_transform(df[\"Branch\"].values)\n",
    "df[\"City\"] = encoded.fit_transform(df[\"Branch\"].values)\n",
    "df[\"Branch\"] = encoded.fit_transform(df[\"Branch\"].values)\n",
    "df[\"Customer type\"] = encoded.fit_transform(df[\"Branch\"].values)\n",
    "df[\"Gender\"] = encoded.fit_transform(df[\"Branch\"].values)\n",
    "df[\"Payment\"] = encoded.fit_transform(df[\"Branch\"].values)"
   ]
  },
  {
   "cell_type": "code",
   "execution_count": 8,
   "id": "45d59b94",
   "metadata": {},
   "outputs": [
    {
     "data": {
      "text/html": [
       "<div>\n",
       "<style scoped>\n",
       "    .dataframe tbody tr th:only-of-type {\n",
       "        vertical-align: middle;\n",
       "    }\n",
       "\n",
       "    .dataframe tbody tr th {\n",
       "        vertical-align: top;\n",
       "    }\n",
       "\n",
       "    .dataframe thead th {\n",
       "        text-align: right;\n",
       "    }\n",
       "</style>\n",
       "<table border=\"1\" class=\"dataframe\">\n",
       "  <thead>\n",
       "    <tr style=\"text-align: right;\">\n",
       "      <th></th>\n",
       "      <th>Branch</th>\n",
       "      <th>City</th>\n",
       "      <th>Customer type</th>\n",
       "      <th>Gender</th>\n",
       "      <th>Product line</th>\n",
       "      <th>Unit price</th>\n",
       "      <th>Quantity</th>\n",
       "      <th>Tax 5%</th>\n",
       "      <th>Total</th>\n",
       "      <th>Payment</th>\n",
       "      <th>cogs</th>\n",
       "      <th>gross margin percentage</th>\n",
       "      <th>gross income</th>\n",
       "      <th>Rating</th>\n",
       "    </tr>\n",
       "  </thead>\n",
       "  <tbody>\n",
       "    <tr>\n",
       "      <th>0</th>\n",
       "      <td>0</td>\n",
       "      <td>0</td>\n",
       "      <td>0</td>\n",
       "      <td>0</td>\n",
       "      <td>0</td>\n",
       "      <td>74.69</td>\n",
       "      <td>7</td>\n",
       "      <td>26.1415</td>\n",
       "      <td>548.9715</td>\n",
       "      <td>0</td>\n",
       "      <td>522.83</td>\n",
       "      <td>4.761905</td>\n",
       "      <td>26.1415</td>\n",
       "      <td>9.1</td>\n",
       "    </tr>\n",
       "    <tr>\n",
       "      <th>1</th>\n",
       "      <td>2</td>\n",
       "      <td>2</td>\n",
       "      <td>2</td>\n",
       "      <td>2</td>\n",
       "      <td>2</td>\n",
       "      <td>15.28</td>\n",
       "      <td>5</td>\n",
       "      <td>3.8200</td>\n",
       "      <td>80.2200</td>\n",
       "      <td>2</td>\n",
       "      <td>76.40</td>\n",
       "      <td>4.761905</td>\n",
       "      <td>3.8200</td>\n",
       "      <td>9.6</td>\n",
       "    </tr>\n",
       "    <tr>\n",
       "      <th>2</th>\n",
       "      <td>0</td>\n",
       "      <td>0</td>\n",
       "      <td>0</td>\n",
       "      <td>0</td>\n",
       "      <td>0</td>\n",
       "      <td>46.33</td>\n",
       "      <td>7</td>\n",
       "      <td>16.2155</td>\n",
       "      <td>340.5255</td>\n",
       "      <td>0</td>\n",
       "      <td>324.31</td>\n",
       "      <td>4.761905</td>\n",
       "      <td>16.2155</td>\n",
       "      <td>7.4</td>\n",
       "    </tr>\n",
       "    <tr>\n",
       "      <th>3</th>\n",
       "      <td>0</td>\n",
       "      <td>0</td>\n",
       "      <td>0</td>\n",
       "      <td>0</td>\n",
       "      <td>0</td>\n",
       "      <td>58.22</td>\n",
       "      <td>8</td>\n",
       "      <td>23.2880</td>\n",
       "      <td>489.0480</td>\n",
       "      <td>0</td>\n",
       "      <td>465.76</td>\n",
       "      <td>4.761905</td>\n",
       "      <td>23.2880</td>\n",
       "      <td>8.4</td>\n",
       "    </tr>\n",
       "    <tr>\n",
       "      <th>4</th>\n",
       "      <td>0</td>\n",
       "      <td>0</td>\n",
       "      <td>0</td>\n",
       "      <td>0</td>\n",
       "      <td>0</td>\n",
       "      <td>86.31</td>\n",
       "      <td>7</td>\n",
       "      <td>30.2085</td>\n",
       "      <td>634.3785</td>\n",
       "      <td>0</td>\n",
       "      <td>604.17</td>\n",
       "      <td>4.761905</td>\n",
       "      <td>30.2085</td>\n",
       "      <td>5.3</td>\n",
       "    </tr>\n",
       "    <tr>\n",
       "      <th>...</th>\n",
       "      <td>...</td>\n",
       "      <td>...</td>\n",
       "      <td>...</td>\n",
       "      <td>...</td>\n",
       "      <td>...</td>\n",
       "      <td>...</td>\n",
       "      <td>...</td>\n",
       "      <td>...</td>\n",
       "      <td>...</td>\n",
       "      <td>...</td>\n",
       "      <td>...</td>\n",
       "      <td>...</td>\n",
       "      <td>...</td>\n",
       "      <td>...</td>\n",
       "    </tr>\n",
       "    <tr>\n",
       "      <th>995</th>\n",
       "      <td>2</td>\n",
       "      <td>2</td>\n",
       "      <td>2</td>\n",
       "      <td>2</td>\n",
       "      <td>2</td>\n",
       "      <td>40.35</td>\n",
       "      <td>1</td>\n",
       "      <td>2.0175</td>\n",
       "      <td>42.3675</td>\n",
       "      <td>2</td>\n",
       "      <td>40.35</td>\n",
       "      <td>4.761905</td>\n",
       "      <td>2.0175</td>\n",
       "      <td>6.2</td>\n",
       "    </tr>\n",
       "    <tr>\n",
       "      <th>996</th>\n",
       "      <td>1</td>\n",
       "      <td>1</td>\n",
       "      <td>1</td>\n",
       "      <td>1</td>\n",
       "      <td>1</td>\n",
       "      <td>97.38</td>\n",
       "      <td>10</td>\n",
       "      <td>48.6900</td>\n",
       "      <td>1022.4900</td>\n",
       "      <td>1</td>\n",
       "      <td>973.80</td>\n",
       "      <td>4.761905</td>\n",
       "      <td>48.6900</td>\n",
       "      <td>4.4</td>\n",
       "    </tr>\n",
       "    <tr>\n",
       "      <th>997</th>\n",
       "      <td>0</td>\n",
       "      <td>0</td>\n",
       "      <td>0</td>\n",
       "      <td>0</td>\n",
       "      <td>0</td>\n",
       "      <td>31.84</td>\n",
       "      <td>1</td>\n",
       "      <td>1.5920</td>\n",
       "      <td>33.4320</td>\n",
       "      <td>0</td>\n",
       "      <td>31.84</td>\n",
       "      <td>4.761905</td>\n",
       "      <td>1.5920</td>\n",
       "      <td>7.7</td>\n",
       "    </tr>\n",
       "    <tr>\n",
       "      <th>998</th>\n",
       "      <td>0</td>\n",
       "      <td>0</td>\n",
       "      <td>0</td>\n",
       "      <td>0</td>\n",
       "      <td>0</td>\n",
       "      <td>65.82</td>\n",
       "      <td>1</td>\n",
       "      <td>3.2910</td>\n",
       "      <td>69.1110</td>\n",
       "      <td>0</td>\n",
       "      <td>65.82</td>\n",
       "      <td>4.761905</td>\n",
       "      <td>3.2910</td>\n",
       "      <td>4.1</td>\n",
       "    </tr>\n",
       "    <tr>\n",
       "      <th>999</th>\n",
       "      <td>0</td>\n",
       "      <td>0</td>\n",
       "      <td>0</td>\n",
       "      <td>0</td>\n",
       "      <td>0</td>\n",
       "      <td>88.34</td>\n",
       "      <td>7</td>\n",
       "      <td>30.9190</td>\n",
       "      <td>649.2990</td>\n",
       "      <td>0</td>\n",
       "      <td>618.38</td>\n",
       "      <td>4.761905</td>\n",
       "      <td>30.9190</td>\n",
       "      <td>6.6</td>\n",
       "    </tr>\n",
       "  </tbody>\n",
       "</table>\n",
       "<p>1000 rows × 14 columns</p>\n",
       "</div>"
      ],
      "text/plain": [
       "     Branch  City  Customer type  Gender  Product line  Unit price  Quantity  \\\n",
       "0         0     0              0       0             0       74.69         7   \n",
       "1         2     2              2       2             2       15.28         5   \n",
       "2         0     0              0       0             0       46.33         7   \n",
       "3         0     0              0       0             0       58.22         8   \n",
       "4         0     0              0       0             0       86.31         7   \n",
       "..      ...   ...            ...     ...           ...         ...       ...   \n",
       "995       2     2              2       2             2       40.35         1   \n",
       "996       1     1              1       1             1       97.38        10   \n",
       "997       0     0              0       0             0       31.84         1   \n",
       "998       0     0              0       0             0       65.82         1   \n",
       "999       0     0              0       0             0       88.34         7   \n",
       "\n",
       "      Tax 5%      Total  Payment    cogs  gross margin percentage  \\\n",
       "0    26.1415   548.9715        0  522.83                 4.761905   \n",
       "1     3.8200    80.2200        2   76.40                 4.761905   \n",
       "2    16.2155   340.5255        0  324.31                 4.761905   \n",
       "3    23.2880   489.0480        0  465.76                 4.761905   \n",
       "4    30.2085   634.3785        0  604.17                 4.761905   \n",
       "..       ...        ...      ...     ...                      ...   \n",
       "995   2.0175    42.3675        2   40.35                 4.761905   \n",
       "996  48.6900  1022.4900        1  973.80                 4.761905   \n",
       "997   1.5920    33.4320        0   31.84                 4.761905   \n",
       "998   3.2910    69.1110        0   65.82                 4.761905   \n",
       "999  30.9190   649.2990        0  618.38                 4.761905   \n",
       "\n",
       "     gross income  Rating  \n",
       "0         26.1415     9.1  \n",
       "1          3.8200     9.6  \n",
       "2         16.2155     7.4  \n",
       "3         23.2880     8.4  \n",
       "4         30.2085     5.3  \n",
       "..            ...     ...  \n",
       "995        2.0175     6.2  \n",
       "996       48.6900     4.4  \n",
       "997        1.5920     7.7  \n",
       "998        3.2910     4.1  \n",
       "999       30.9190     6.6  \n",
       "\n",
       "[1000 rows x 14 columns]"
      ]
     },
     "execution_count": 8,
     "metadata": {},
     "output_type": "execute_result"
    }
   ],
   "source": [
    "df"
   ]
  },
  {
   "cell_type": "code",
   "execution_count": 9,
   "id": "d65bbd45",
   "metadata": {},
   "outputs": [
    {
     "data": {
      "text/plain": [
       "Branch                     0\n",
       "City                       0\n",
       "Customer type              0\n",
       "Gender                     0\n",
       "Product line               0\n",
       "Unit price                 0\n",
       "Quantity                   0\n",
       "Tax 5%                     0\n",
       "Total                      0\n",
       "Payment                    0\n",
       "cogs                       0\n",
       "gross margin percentage    0\n",
       "gross income               0\n",
       "Rating                     0\n",
       "dtype: int64"
      ]
     },
     "execution_count": 9,
     "metadata": {},
     "output_type": "execute_result"
    }
   ],
   "source": [
    "df.isna().sum()"
   ]
  },
  {
   "cell_type": "code",
   "execution_count": 13,
   "id": "358eec5e",
   "metadata": {},
   "outputs": [
    {
     "data": {
      "text/plain": [
       "array([[<AxesSubplot:title={'center':'Branch'}>,\n",
       "        <AxesSubplot:title={'center':'City'}>,\n",
       "        <AxesSubplot:title={'center':'Customer type'}>,\n",
       "        <AxesSubplot:title={'center':'Gender'}>],\n",
       "       [<AxesSubplot:title={'center':'Product line'}>,\n",
       "        <AxesSubplot:title={'center':'Unit price'}>,\n",
       "        <AxesSubplot:title={'center':'Quantity'}>,\n",
       "        <AxesSubplot:title={'center':'Tax 5%'}>],\n",
       "       [<AxesSubplot:title={'center':'Total'}>,\n",
       "        <AxesSubplot:title={'center':'Payment'}>,\n",
       "        <AxesSubplot:title={'center':'cogs'}>,\n",
       "        <AxesSubplot:title={'center':'gross margin percentage'}>],\n",
       "       [<AxesSubplot:title={'center':'gross income'}>,\n",
       "        <AxesSubplot:title={'center':'Rating'}>, <AxesSubplot:>,\n",
       "        <AxesSubplot:>]], dtype=object)"
      ]
     },
     "execution_count": 13,
     "metadata": {},
     "output_type": "execute_result"
    },
    {
     "data": {
      "image/png": "[encoded data removed]",
      "text/plain": [
       "<Figure size 432x288 with 16 Axes>"
      ]
     },
     "metadata": {
      "needs_background": "light"
     },
     "output_type": "display_data"
    }
   ],
   "source": [
    "df.hist()"
   ]
  },
  {
   "cell_type": "code",
   "execution_count": 12,
   "id": "bb2ff600",
   "metadata": {},
   "outputs": [
    {
     "data": {
      "text/plain": [
       "<AxesSubplot:xlabel='Total', ylabel='Count'>"
      ]
     },
     "execution_count": 12,
     "metadata": {},
     "output_type": "execute_result"
    },
    {
     "data": {
      "image/png": "[encoded data removed]",
      "text/plain": [
       "<Figure size 432x288 with 1 Axes>"
      ]
     },
     "metadata": {
      "needs_background": "light"
     },
     "output_type": "display_data"
    }
   ],
   "source": [
    "sns.histplot(df[\"Total\"])"
   ]
  },
  {
   "cell_type": "code",
   "execution_count": 14,
   "id": "53b4516a",
   "metadata": {},
   "outputs": [
    {
     "data": {
      "text/plain": [
       "<AxesSubplot:xlabel='Customer type', ylabel='Count'>"
      ]
     },
     "execution_count": 14,
     "metadata": {},
     "output_type": "execute_result"
    },
    {
     "data": {
      "image/png": "[encoded data removed]",
      "text/plain": [
       "<Figure size 432x288 with 1 Axes>"
      ]
     },
     "metadata": {
      "needs_background": "light"
     },
     "output_type": "display_data"
    }
   ],
   "source": [
    "sns.histplot(df[\"Customer type\"])"
   ]
  },
  {
   "cell_type": "code",
   "execution_count": 16,
   "id": "f9718a71",
   "metadata": {},
   "outputs": [],
   "source": [
    "X = df.drop(columns=\"Rating\")\n",
    "y = df[\"Rating\"]"
   ]
  },
  {
   "cell_type": "code",
   "execution_count": 17,
   "id": "9f959e46",
   "metadata": {},
   "outputs": [],
   "source": [
    "X_train, X_test, y_train, y_test = train_test_split(X, y, random_state=0)"
   ]
  },
  {
   "cell_type": "code",
   "execution_count": 18,
   "id": "01889f04",
   "metadata": {},
   "outputs": [],
   "source": [
    "reg_pipe = make_pipeline(StandardScaler(), KNeighborsRegressor(n_neighbors=2))"
   ]
  },
  {
   "cell_type": "code",
   "execution_count": 20,
   "id": "cae64ba1",
   "metadata": {},
   "outputs": [
    {
     "data": {
      "text/plain": [
       "Pipeline(steps=[('standardscaler', StandardScaler()),\n",
       "                ('kneighborsregressor', KNeighborsRegressor(n_neighbors=2))])"
      ]
     },
     "execution_count": 20,
     "metadata": {},
     "output_type": "execute_result"
    }
   ],
   "source": [
    "reg_pipe.fit(X_train, y_train)"
   ]
  },
  {
   "cell_type": "code",
   "execution_count": 21,
   "id": "53c37521",
   "metadata": {},
   "outputs": [
    {
     "data": {
      "text/plain": [
       "0.4989646702942401"
      ]
     },
     "execution_count": 21,
     "metadata": {},
     "output_type": "execute_result"
    }
   ],
   "source": [
    "reg_pipe.score(X_train, y_train)"
   ]
  },
  {
   "cell_type": "code",
   "execution_count": 22,
   "id": "4bfdc5c0",
   "metadata": {},
   "outputs": [
    {
     "data": {
      "text/plain": [
       "-0.4643259960817925"
      ]
     },
     "execution_count": 22,
     "metadata": {},
     "output_type": "execute_result"
    }
   ],
   "source": [
    "reg_pipe.score(X_test, y_test)"
   ]
  },
  {
   "cell_type": "code",
   "execution_count": 23,
   "id": "9e95fc18",
   "metadata": {},
   "outputs": [],
   "source": [
    "X = df.drop(columns=\"Rating\")\n",
    "y = df[\"Rating\"]"
   ]
  },
  {
   "cell_type": "code",
   "execution_count": 25,
   "id": "ccbcbb92",
   "metadata": {},
   "outputs": [],
   "source": [
    "scaler = StandardScaler()\n",
    "scaled_df = scaler.fit_transform(X)"
   ]
  },
  {
   "cell_type": "code",
   "execution_count": 26,
   "id": "1dc11ab4",
   "metadata": {},
   "outputs": [
    {
     "data": {
      "text/plain": [
       "PCA()"
      ]
     },
     "execution_count": 26,
     "metadata": {},
     "output_type": "execute_result"
    }
   ],
   "source": [
    "pca = PCA()\n",
    "pca.fit(scaled_df)"
   ]
  },
  {
   "cell_type": "code",
   "execution_count": 27,
   "id": "3c324179",
   "metadata": {},
   "outputs": [
    {
     "data": {
      "text/plain": [
       "Text(0, 0.5, 'Proportion of explained variance')"
      ]
     },
     "execution_count": 27,
     "metadata": {},
     "output_type": "execute_result"
    },
    {
     "data": {
      "image/png": "[encoded data removed]",
      "text/plain": [
       "<Figure size 432x288 with 1 Axes>"
      ]
     },
     "metadata": {
      "needs_background": "light"
     },
     "output_type": "display_data"
    }
   ],
   "source": [
    "plt.plot(range(1, 11), pca.explained_variance_ratio_[:10], marker=\".\")\n",
    "plt.xticks(ticks=range(1, 11))\n",
    "\n",
    "plt.xlabel(\"Principal component\")\n",
    "plt.ylabel(\"Proportion of explained variance\")"
   ]
  },
  {
   "cell_type": "code",
   "execution_count": 29,
   "id": "da7edeef",
   "metadata": {},
   "outputs": [],
   "source": [
    "X = df.loc[:, ['Branch','City','Customer type','Gender','Product line','Unit price','Quantity','Tax 5%','Total','Payment','cogs','gross margin percentage','gross income']].values"
   ]
  },
  {
   "cell_type": "code",
   "execution_count": 30,
   "id": "85f56f7c",
   "metadata": {},
   "outputs": [],
   "source": [
    "y = df.loc[:, \"Rating\"].values"
   ]
  },
  {
   "cell_type": "code",
   "execution_count": 31,
   "id": "27659952",
   "metadata": {},
   "outputs": [],
   "source": [
    "reg = LinearRegression(fit_intercept=True)"
   ]
  },
  {
   "cell_type": "code",
   "execution_count": 32,
   "id": "2d8500d1",
   "metadata": {},
   "outputs": [
    {
     "data": {
      "text/plain": [
       "LinearRegression()"
      ]
     },
     "execution_count": 32,
     "metadata": {},
     "output_type": "execute_result"
    }
   ],
   "source": [
    "reg.fit(X, y)"
   ]
  },
  {
   "cell_type": "code",
   "execution_count": 33,
   "id": "ccdd0de3",
   "metadata": {},
   "outputs": [],
   "source": [
    "preds = reg.predict(X)"
   ]
  },
  {
   "cell_type": "code",
   "execution_count": 34,
   "id": "93c5718a",
   "metadata": {},
   "outputs": [
    {
     "data": {
      "text/plain": [
       "0.004093292609817056"
      ]
     },
     "execution_count": 34,
     "metadata": {},
     "output_type": "execute_result"
    }
   ],
   "source": [
    "reg.score(X, y)"
   ]
  },
  {
   "cell_type": "code",
   "execution_count": 37,
   "id": "7e0a01bc",
   "metadata": {},
   "outputs": [
    {
     "data": {
      "text/plain": [
       "0.004093292609817056"
      ]
     },
     "execution_count": 37,
     "metadata": {},
     "output_type": "execute_result"
    }
   ],
   "source": [
    "r2_score(y, preds)"
   ]
  },
  {
   "cell_type": "code",
   "execution_count": 38,
   "id": "ebfbcbab",
   "metadata": {},
   "outputs": [
    {
     "data": {
      "text/plain": [
       "1.4746975381677843"
      ]
     },
     "execution_count": 38,
     "metadata": {},
     "output_type": "execute_result"
    }
   ],
   "source": [
    "np.sum(np.abs(y-preds))/len(preds)"
   ]
  },
  {
   "cell_type": "code",
   "execution_count": 40,
   "id": "96bbdb93",
   "metadata": {},
   "outputs": [
    {
     "data": {
      "text/plain": [
       "1.4746975381677843"
      ]
     },
     "execution_count": 40,
     "metadata": {},
     "output_type": "execute_result"
    }
   ],
   "source": [
    "mean_absolute_error(y, preds)"
   ]
  },
  {
   "cell_type": "code",
   "execution_count": 41,
   "id": "67da1f1f",
   "metadata": {},
   "outputs": [
    {
     "data": {
      "text/plain": [
       "2.9384871852777703"
      ]
     },
     "execution_count": 41,
     "metadata": {},
     "output_type": "execute_result"
    }
   ],
   "source": [
    "np.sum((y-preds)**2)/len(preds)"
   ]
  },
  {
   "cell_type": "code",
   "execution_count": 42,
   "id": "b3a84a12",
   "metadata": {},
   "outputs": [
    {
     "data": {
      "text/plain": [
       "2.9384871852777703"
      ]
     },
     "execution_count": 42,
     "metadata": {},
     "output_type": "execute_result"
    }
   ],
   "source": [
    "mean_squared_error(y, preds)"
   ]
  },
  {
   "cell_type": "code",
   "execution_count": 43,
   "id": "4342e146",
   "metadata": {},
   "outputs": [
    {
     "data": {
      "text/plain": [
       "1.7142016174527925"
      ]
     },
     "execution_count": 43,
     "metadata": {},
     "output_type": "execute_result"
    }
   ],
   "source": [
    "np.sqrt(np.sum((y-preds)**2)/len(preds))"
   ]
  },
  {
   "cell_type": "code",
   "execution_count": 44,
   "id": "2eb06d51",
   "metadata": {},
   "outputs": [
    {
     "data": {
      "text/plain": [
       "1.7142016174527925"
      ]
     },
     "execution_count": 44,
     "metadata": {},
     "output_type": "execute_result"
    }
   ],
   "source": [
    "np.sqrt(mean_squared_error(y,preds))"
   ]
  },
  {
   "cell_type": "code",
   "execution_count": 45,
   "id": "bad5e9bd",
   "metadata": {},
   "outputs": [],
   "source": [
    "scaler = StandardScaler()\n",
    "\n",
    "X_train = scaler.fit_transform(X_train)\n",
    "X_test = scaler.transform(X_test)"
   ]
  },
  {
   "cell_type": "code",
   "execution_count": 46,
   "id": "13cb6bd5",
   "metadata": {},
   "outputs": [
    {
     "data": {
      "text/plain": [
       "13"
      ]
     },
     "execution_count": 46,
     "metadata": {},
     "output_type": "execute_result"
    }
   ],
   "source": [
    "input_shape = X_train.shape[1]\n",
    "input_shape"
   ]
  },
  {
   "cell_type": "code",
   "execution_count": 49,
   "id": "04db795a",
   "metadata": {},
   "outputs": [],
   "source": [
    "model = Sequential()"
   ]
  },
  {
   "cell_type": "code",
   "execution_count": 50,
   "id": "719b3f7b",
   "metadata": {},
   "outputs": [],
   "source": [
    "model.add(Dense(19, input_dim=input_shape, activation=\"relu\"))\n",
    "model.add(Dense(15, activation=\"relu\"))\n",
    "model.add(Dense(15, activation=\"relu\"))"
   ]
  },
  {
   "cell_type": "code",
   "execution_count": 51,
   "id": "691a7045",
   "metadata": {},
   "outputs": [],
   "source": [
    "model.add(Dense(1, activation=\"sigmoid\"))"
   ]
  },
  {
   "cell_type": "code",
   "execution_count": 52,
   "id": "f1bc81f4",
   "metadata": {},
   "outputs": [],
   "source": [
    "model.compile(loss=\"bce\", optimizer=\"adam\")"
   ]
  },
  {
   "cell_type": "code",
   "execution_count": 53,
   "id": "2cdf8d3f",
   "metadata": {},
   "outputs": [
    {
     "name": "stdout",
     "output_type": "stream",
     "text": [
      "Epoch 1/35\n",
      "24/24 [==============================] - 1s 8ms/step - loss: -2.3204 - val_loss: -4.4796\n",
      "Epoch 2/35\n",
      "24/24 [==============================] - 0s 2ms/step - loss: -7.5232 - val_loss: -11.2874\n",
      "Epoch 3/35\n",
      "24/24 [==============================] - 0s 2ms/step - loss: -17.1582 - val_loss: -24.7936\n",
      "Epoch 4/35\n",
      "24/24 [==============================] - 0s 2ms/step - loss: -38.2424 - val_loss: -56.2666\n",
      "Epoch 5/35\n",
      "24/24 [==============================] - 0s 2ms/step - loss: -87.6683 - val_loss: -130.0909\n",
      "Epoch 6/35\n",
      "24/24 [==============================] - 0s 2ms/step - loss: -197.0218 - val_loss: -282.6852\n",
      "Epoch 7/35\n",
      "24/24 [==============================] - 0s 2ms/step - loss: -410.4067 - val_loss: -566.1496\n",
      "Epoch 8/35\n",
      "24/24 [==============================] - 0s 2ms/step - loss: -790.5849 - val_loss: -1050.5609\n",
      "Epoch 9/35\n",
      "24/24 [==============================] - 0s 2ms/step - loss: -1414.4271 - val_loss: -1822.0437\n",
      "Epoch 10/35\n",
      "24/24 [==============================] - 0s 2ms/step - loss: -2371.8032 - val_loss: -2967.6016\n",
      "Epoch 11/35\n",
      "24/24 [==============================] - 0s 2ms/step - loss: -3777.6877 - val_loss: -4602.1787\n",
      "Epoch 12/35\n",
      "24/24 [==============================] - 0s 2ms/step - loss: -5724.8955 - val_loss: -6844.8091\n",
      "Epoch 13/35\n",
      "24/24 [==============================] - 0s 2ms/step - loss: -8371.8223 - val_loss: -9828.9893\n",
      "Epoch 14/35\n",
      "24/24 [==============================] - 0s 2ms/step - loss: -11857.2129 - val_loss: -13697.4600\n",
      "Epoch 15/35\n",
      "24/24 [==============================] - 0s 2ms/step - loss: -16300.5547 - val_loss: -18641.7949\n",
      "Epoch 16/35\n",
      "24/24 [==============================] - 0s 2ms/step - loss: -21906.3164 - val_loss: -24711.1602\n",
      "Epoch 17/35\n",
      "24/24 [==============================] - 0s 2ms/step - loss: -28778.8516 - val_loss: -32203.8887\n",
      "Epoch 18/35\n",
      "24/24 [==============================] - 0s 2ms/step - loss: -37110.3164 - val_loss: -41254.9688\n",
      "Epoch 19/35\n",
      "24/24 [==============================] - 0s 2ms/step - loss: -47189.5352 - val_loss: -52012.7227\n",
      "Epoch 20/35\n",
      "24/24 [==============================] - 0s 2ms/step - loss: -59218.5977 - val_loss: -64670.2148\n",
      "Epoch 21/35\n",
      "24/24 [==============================] - 0s 2ms/step - loss: -73252.3125 - val_loss: -79541.2500\n",
      "Epoch 22/35\n",
      "24/24 [==============================] - 0s 2ms/step - loss: -89562.4766 - val_loss: -96803.1406\n",
      "Epoch 23/35\n",
      "24/24 [==============================] - 0s 2ms/step - loss: -108383.2188 - val_loss: -116475.8281\n",
      "Epoch 24/35\n",
      "24/24 [==============================] - 0s 2ms/step - loss: -129939.3359 - val_loss: -139181.0781\n",
      "Epoch 25/35\n",
      "24/24 [==============================] - 0s 2ms/step - loss: -154438.5781 - val_loss: -164756.3750\n",
      "Epoch 26/35\n",
      "24/24 [==============================] - 0s 2ms/step - loss: -182258.4531 - val_loss: -193477.3750\n",
      "Epoch 27/35\n",
      "24/24 [==============================] - 0s 2ms/step - loss: -213243.0156 - val_loss: -225978.2969\n",
      "Epoch 28/35\n",
      "24/24 [==============================] - 0s 2ms/step - loss: -248130.2812 - val_loss: -261893.7344\n",
      "Epoch 29/35\n",
      "24/24 [==============================] - 0s 2ms/step - loss: -286768.5312 - val_loss: -301763.6250\n",
      "Epoch 30/35\n",
      "24/24 [==============================] - 0s 2ms/step - loss: -329682.3438 - val_loss: -345723.0938\n",
      "Epoch 31/35\n",
      "24/24 [==============================] - 0s 2ms/step - loss: -377022.3750 - val_loss: -394375.0938\n",
      "Epoch 32/35\n",
      "24/24 [==============================] - 0s 2ms/step - loss: -429256.5000 - val_loss: -447988.5312\n",
      "Epoch 33/35\n",
      "24/24 [==============================] - 0s 2ms/step - loss: -486295.7500 - val_loss: -506729.7812\n",
      "Epoch 34/35\n",
      "24/24 [==============================] - 0s 2ms/step - loss: -548456.6875 - val_loss: -569877.6875\n",
      "Epoch 35/35\n",
      "24/24 [==============================] - 0s 2ms/step - loss: -616009.6250 - val_loss: -638388.2500\n"
     ]
    }
   ],
   "source": [
    "history = model.fit(X_train, y_train, validation_data=(X_test, y_test), \n",
    "                    epochs=35)"
   ]
  },
  {
   "cell_type": "code",
   "execution_count": 55,
   "id": "5069f433",
   "metadata": {},
   "outputs": [
    {
     "data": {
      "text/plain": [
       "<matplotlib.legend.Legend at 0x266327076d0>"
      ]
     },
     "execution_count": 55,
     "metadata": {},
     "output_type": "execute_result"
    },
    {
     "data": {
      "image/png": "[encoded data removed]",
      "text/plain": [
       "<Figure size 432x288 with 1 Axes>"
      ]
     },
     "metadata": {
      "needs_background": "light"
     },
     "output_type": "display_data"
    }
   ],
   "source": [
    "plt.plot(history.history[\"loss\"], label=\"Train loss\")\n",
    "plt.plot(history.history[\"val_loss\"], label=\"Test loss\")\n",
    "\n",
    "plt.legend()"
   ]
  }
 ],
 "metadata": {
  "kernelspec": {
   "display_name": "Python 3 (ipykernel)",
   "language": "python",
   "name": "python3"
  },
  "language_info": {
   "codemirror_mode": {
    "name": "ipython",
    "version": 3
   },
   "file_extension": ".py",
   "mimetype": "text/x-python",
   "name": "python",
   "nbconvert_exporter": "python",
   "pygments_lexer": "ipython3",
   "version": "3.9.12"
  }
 },
 "nbformat": 4,
 "nbformat_minor": 5
}
